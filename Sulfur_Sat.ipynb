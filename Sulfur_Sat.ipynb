{
 "cells": [
  {
   "cell_type": "code",
   "execution_count": 1,
   "metadata": {},
   "outputs": [],
   "source": [
    "from matplotlib import pyplot as plt\n",
    "%matplotlib inline\n",
    "import numpy as np\n",
    "import pandas as pd\n",
    "import xarray as xr"
   ]
  },
  {
   "cell_type": "markdown",
   "metadata": {},
   "source": [
    "# Input Data"
   ]
  },
  {
   "cell_type": "code",
   "execution_count": 138,
   "metadata": {},
   "outputs": [],
   "source": [
    "P     = 0.5 # GPa\n",
    "T     = 1000.00 # Deg C\n",
    "SiO2  = 68.99 # wt%\n",
    "TiO2  = 0.08\n",
    "Al2O3 = 19.00\n",
    "FeO   = 0.05 # For FeO* enter total iron as FeO and Fe2O3 = 0\n",
    "Fe2O3 = 0\n",
    "MnO   = 0.01\n",
    "MgO   = 0.09\n",
    "CaO   = 0.49\n",
    "Na2O  = 3.15\n",
    "K2O   = 7.90\n",
    "H2O   = 0"
   ]
  },
  {
   "cell_type": "markdown",
   "metadata": {},
   "source": [
    "Define functions and models"
   ]
  },
  {
   "cell_type": "code",
   "execution_count": 139,
   "metadata": {},
   "outputs": [],
   "source": [
    "weights = {'SiO2':60.0848, 'TiO2':79.866, 'Al2O3':101.96128, 'FeO':71.8464, 'Fe2O3':159.6922,\n",
    "           'MnO':70.9374, 'MgO':40.3044, 'CaO':56.0794, 'Na2O':61.97894, 'K2O':94.1954, \n",
    "           'H2O':18.0152} # molecular weights\n",
    "norms   = {'SiO2':1, 'TiO2':1, 'Al2O3':2, 'FeO':1, 'Fe2O3':2, 'MnO':1, 'MgO':1, 'CaO':1, 'Na2O':2, \n",
    "           'K2O':2, 'H2O':2} # Normalize to atoms\n",
    "\n",
    "def WtPerc2MolFracOxide(oxides):\n",
    "    \"\"\"Calculate mole fractions from weight percent of oxides.\n",
    "    \n",
    "    :Input:\n",
    "     - *oxides* (ndarray(11)) - Weight percent of oxides.\n",
    "\n",
    "    :Output:\n",
    "     - (ndarray(11)) - mole fractions of oxides.\n",
    "    \"\"\"\n",
    "    molFracs = np.zeros_like(oxides)    \n",
    "    for i, (oxide, weight) in enumerate(weights.items()):\n",
    "        molFracs[i] = oxides[i]/weight\n",
    "    molTot = sum(molFracs)\n",
    "    molFracs /= molTot\n",
    "    return molFracs, molTot\n",
    "\n",
    "def WtPerc2MolFrac(oxides):\n",
    "    \"\"\"Calculate mole fractions from weight percent of oxides.\n",
    "    \n",
    "    :Input:\n",
    "     - *oxides* (ndarray(11)) - Weight percent of oxides.\n",
    "\n",
    "    :Output:\n",
    "     - (ndarray(10)) - mole fractions of elements.\n",
    "    \"\"\"\n",
    "    molFracs = np.zeros_like(oxides)    \n",
    "    for i, (oxide, weight) in enumerate(weights.items()):\n",
    "        molFracs[i] = oxides[i]/weight*norms[oxide]\n",
    "    molFracs /= sum(molFracs)\n",
    "    molFracs = np.append(np.append(molFracs[0:3],sum(molFracs[3:5])),molFracs[5:])\n",
    "    return molFracs\n",
    "\n",
    "\n",
    "def SCAS(P, T, oxides, model='ChowdhuryDasgupta2019'):\n",
    "    \"\"\"Calculate Sulfur Content at Anhydrite Saturation (SCAS).\n",
    "    \n",
    "    :Input:\n",
    "     - *P* (float)            - Pressure (GPa).\n",
    "     - *T* (float)            - Temperature (deg C).\n",
    "     - *oxides* (ndarray(11)) - Weight percent of oxides.\n",
    "     - *model* (string)       - Saturation model ('ChowdhuryDasgupta2019' or 'LiRipley2009')\n",
    "\n",
    "    :Output:\n",
    "     - (float) - SCAS (ppm).\n",
    "    \"\"\"\n",
    "    \n",
    "    molFracs, molTot = WtPerc2MolFracOxide(oxides)\n",
    "    \n",
    "    if model == 'ChowdhuryDasgupta2019':\n",
    "        lnXS = -13.23 - 0.50*(10**4/(T + 273.15)) + 3.02*molFracs[0] + 44.28*molFracs[2] + \\\n",
    "        10.14*(molFracs[3]+2*molFracs[4]) + 2.84*molFracs[6] + 36.70*molFracs[7] + 26.27*molFracs[8] - \\\n",
    "        26.27*molFracs[9] + 0.09*oxides[10] - 0.54*np.log(molFracs[7])\n",
    "        SCAS = np.exp(lnXS)*(molTot + np.exp(lnXS))*32.065*10**4\n",
    "        \n",
    "    if model == 'LiRipley2009':\n",
    "        \n",
    "        \n",
    "    return SCAS"
   ]
  },
  {
   "cell_type": "code",
   "execution_count": 140,
   "metadata": {},
   "outputs": [
    {
     "data": {
      "text/plain": [
       "509.80137343387815"
      ]
     },
     "execution_count": 140,
     "metadata": {},
     "output_type": "execute_result"
    }
   ],
   "source": [
    "SCAS(P, T, [SiO2, TiO2, Al2O3, FeO, Fe2O3, MnO, MgO, CaO, Na2O, K2O, H2O], model='ChowdhuryDasgupta2019')"
   ]
  },
  {
   "cell_type": "code",
   "execution_count": null,
   "metadata": {},
   "outputs": [],
   "source": []
  }
 ],
 "metadata": {
  "kernelspec": {
   "display_name": "Python 3",
   "language": "python",
   "name": "python3"
  },
  "language_info": {
   "codemirror_mode": {
    "name": "ipython",
    "version": 3
   },
   "file_extension": ".py",
   "mimetype": "text/x-python",
   "name": "python",
   "nbconvert_exporter": "python",
   "pygments_lexer": "ipython3",
   "version": "3.6.7"
  }
 },
 "nbformat": 4,
 "nbformat_minor": 2
}
